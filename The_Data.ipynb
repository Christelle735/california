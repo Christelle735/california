{
 "cells": [
  {
   "cell_type": "code",
   "execution_count": null,
   "id": "26847738",
   "metadata": {},
   "outputs": [],
   "source": []
  }
 ],
 "metadata": {
  "kernelspec": {
   "display_name": "Python 3.9.2 64-bit ('miniforge3-4.10': pyenv)",
   "language": "python",
   "name": "python392jvsc74a57bd0d5320ada5084b33ae0ca27ead8a72ce5eab169614938a0633388e168f610028d"
  },
  "language_info": {
   "codemirror_mode": {
    "name": "ipython",
    "version": 3
   },
   "file_extension": ".py",
   "mimetype": "text/x-python",
   "name": "python",
   "nbconvert_exporter": "python",
   "pygments_lexer": "ipython3",
   "version": "3.9.2"
  }
 },
 "nbformat": 4,
 "nbformat_minor": 5
}
